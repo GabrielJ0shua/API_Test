{
  "nbformat": 4,
  "nbformat_minor": 0,
  "metadata": {
    "colab": {
      "provenance": []
    },
    "kernelspec": {
      "name": "python3",
      "display_name": "Python 3"
    },
    "language_info": {
      "name": "python"
    }
  },
  "cells": [
    {
      "cell_type": "code",
      "execution_count": 15,
      "metadata": {
        "id": "vKpCyBNjB3AC"
      },
      "outputs": [],
      "source": [
        "import requests\n",
        "import json\n",
        "#https://docs.awesomeapi.com.br/api-de-moedas\n"
      ]
    },
    {
      "cell_type": "code",
      "source": [
        "response = requests.get(\"https://economia.awesomeapi.com.br/json/last/USD-BRL\")\n",
        "response = json.loads(response.text) # To Dict\n",
        "response['USDBRL']\n"
      ],
      "metadata": {
        "colab": {
          "base_uri": "https://localhost:8080/"
        },
        "id": "9sqG3OzkB_KV",
        "outputId": "20bab3f9-d108-499a-a12c-fb34a65abb84"
      },
      "execution_count": 22,
      "outputs": [
        {
          "output_type": "execute_result",
          "data": {
            "text/plain": [
              "{'code': 'USD',\n",
              " 'codein': 'BRL',\n",
              " 'name': 'Dólar Americano/Real Brasileiro',\n",
              " 'high': '5.865',\n",
              " 'low': '5.8576',\n",
              " 'varBid': '0.0005',\n",
              " 'pctChange': '0.01',\n",
              " 'bid': '5.8571',\n",
              " 'ask': '5.8581',\n",
              " 'timestamp': '1738101604',\n",
              " 'create_date': '2025-01-28 19:00:04'}"
            ]
          },
          "metadata": {},
          "execution_count": 22
        }
      ]
    },
    {
      "cell_type": "code",
      "source": [
        "response = requests.get(\"https://economia.awesomeapi.com.br/json/last/BTC-BRL\")\n",
        "response = json.loads(response.text) # To Dict\n",
        "response['BTCBRL']\n"
      ],
      "metadata": {
        "colab": {
          "base_uri": "https://localhost:8080/"
        },
        "id": "mHEfFEyCGUvj",
        "outputId": "d81deed3-cb54-45d3-d2e0-8e1aef365dc1"
      },
      "execution_count": 21,
      "outputs": [
        {
          "output_type": "execute_result",
          "data": {
            "text/plain": [
              "{'code': 'BTC',\n",
              " 'codein': 'BRL',\n",
              " 'name': 'Bitcoin/Real Brasileiro',\n",
              " 'high': '611613',\n",
              " 'low': '589580',\n",
              " 'varBid': '-4678',\n",
              " 'pctChange': '-0.78',\n",
              " 'bid': '595173',\n",
              " 'ask': '595666',\n",
              " 'timestamp': '1738104522',\n",
              " 'create_date': '2025-01-28 19:48:42'}"
            ]
          },
          "metadata": {},
          "execution_count": 21
        }
      ]
    }
  ]
}